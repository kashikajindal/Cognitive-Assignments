{
 "cells": [
  {
   "cell_type": "code",
   "execution_count": 48,
   "id": "21e5cc8f-9cd6-4375-aac5-a04efacbe0b4",
   "metadata": {},
   "outputs": [],
   "source": [
    "import nltk\n",
    "import re\n",
    "import string\n",
    "from nltk.tokenize import word_tokenize, sent_tokenize\n",
    "from nltk.corpus import stopwords\n",
    "stop_words = stopwords.words('english')\n",
    "from nltk.probability import FreqDist\n",
    "from nltk.stem import PorterStemmer, WordNetLemmatizer\n",
    "from sklearn.feature_extraction.text import CountVectorizer\n",
    "from sklearn.feature_extraction.text import TfidfVectorizer\n",
    "import numpy as np\n",
    "from sklearn.metrics.pairwise import cosine_similarity\n",
    "from textblob import TextBlob\n",
    "from wordcloud import WordCloud\n",
    "import matplotlib.pyplot as plt\n",
    "from tensorflow.keras.preprocessing.text import Tokenizer\n",
    "from tensorflow.keras.utils import pad_sequences\n",
    "from keras.models import Sequential\n",
    "from keras.layers import Embedding, LSTM, Dense\n",
    "from keras.utils import to_categorical"
   ]
  },
  {
   "cell_type": "markdown",
   "id": "7a746b2f-f1e3-4e76-9706-3b64d670b20c",
   "metadata": {},
   "source": [
    "# Q1.  Write a unique paragraph (5-6 sentences) about your favorite topic (e.g., sports, technology, food, books, etc.)."
   ]
  },
  {
   "cell_type": "code",
   "execution_count": 3,
   "id": "57dd71c6-c69a-49b4-b30d-412d808640bc",
   "metadata": {},
   "outputs": [],
   "source": [
    "text = \"Technology has completely changed the way we live in the past 10 years. From smartphones to AI-powered apps, everything is becoming 5x faster and more convenient. Developers everywhere are coming up with smart, state-of-the-art solutions to tackle real-world challenges. With cloud computing and big data growing so fast, there are endless new possibilities. As a software engineer, I find it exciting to see how quickly the tech world keeps evolving—there's always something new to learn and explore.\""
   ]
  },
  {
   "cell_type": "markdown",
   "id": "6ae65bd2-5c01-4571-a399-52183b7750ea",
   "metadata": {},
   "source": [
    "## 1.\tConvert text to lowercase and remove punctuation using re."
   ]
  },
  {
   "cell_type": "code",
   "execution_count": 5,
   "id": "2afa6627-11cc-41e6-a8a2-7fd9b3dcd0b6",
   "metadata": {},
   "outputs": [
    {
     "data": {
      "text/plain": [
       "\"technology has completely changed the way we live in the past 10 years. from smartphones to ai-powered apps, everything is becoming 5x faster and more convenient. developers everywhere are coming up with smart, state-of-the-art solutions to tackle real-world challenges. with cloud computing and big data growing so fast, there are endless new possibilities. as a software engineer, i find it exciting to see how quickly the tech world keeps evolving—there's always something new to learn and explore.\""
      ]
     },
     "execution_count": 5,
     "metadata": {},
     "output_type": "execute_result"
    }
   ],
   "source": [
    "lower_text = text.lower()\n",
    "lower_text"
   ]
  },
  {
   "cell_type": "code",
   "execution_count": 6,
   "id": "9fd9fab8-c94c-4008-a15b-7e4b1edf34c7",
   "metadata": {},
   "outputs": [
    {
     "data": {
      "text/plain": [
       "'technology has completely changed the way we live in the past 10 years from smartphones to aipowered apps everything is becoming 5x faster and more convenient developers everywhere are coming up with smart stateoftheart solutions to tackle realworld challenges with cloud computing and big data growing so fast there are endless new possibilities as a software engineer i find it exciting to see how quickly the tech world keeps evolving—theres always something new to learn and explore'"
      ]
     },
     "execution_count": 6,
     "metadata": {},
     "output_type": "execute_result"
    }
   ],
   "source": [
    "def remove_punctuation(text):\n",
    "    return \"\".join([i for i in text if i not in string.punctuation])\n",
    "\n",
    "no_punctutation_words = remove_punctuation(lower_text)\n",
    "no_punctutation_words"
   ]
  },
  {
   "cell_type": "markdown",
   "id": "c8bc051f-b769-4cdd-b140-59122a75b3ea",
   "metadata": {},
   "source": [
    "## 2. Tokenize the text into words and sentences."
   ]
  },
  {
   "cell_type": "code",
   "execution_count": 8,
   "id": "e05bad4f-2641-44a9-afb6-ea29ba5a83da",
   "metadata": {
    "scrolled": true
   },
   "outputs": [
    {
     "data": {
      "text/plain": [
       "['Technology',\n",
       " 'has',\n",
       " 'completely',\n",
       " 'changed',\n",
       " 'the',\n",
       " 'way',\n",
       " 'we',\n",
       " 'live',\n",
       " 'in',\n",
       " 'the',\n",
       " 'past',\n",
       " '10',\n",
       " 'years',\n",
       " '.',\n",
       " 'From',\n",
       " 'smartphones',\n",
       " 'to',\n",
       " 'AI-powered',\n",
       " 'apps',\n",
       " ',',\n",
       " 'everything',\n",
       " 'is',\n",
       " 'becoming',\n",
       " '5x',\n",
       " 'faster',\n",
       " 'and',\n",
       " 'more',\n",
       " 'convenient',\n",
       " '.',\n",
       " 'Developers',\n",
       " 'everywhere',\n",
       " 'are',\n",
       " 'coming',\n",
       " 'up',\n",
       " 'with',\n",
       " 'smart',\n",
       " ',',\n",
       " 'state-of-the-art',\n",
       " 'solutions',\n",
       " 'to',\n",
       " 'tackle',\n",
       " 'real-world',\n",
       " 'challenges',\n",
       " '.',\n",
       " 'With',\n",
       " 'cloud',\n",
       " 'computing',\n",
       " 'and',\n",
       " 'big',\n",
       " 'data',\n",
       " 'growing',\n",
       " 'so',\n",
       " 'fast',\n",
       " ',',\n",
       " 'there',\n",
       " 'are',\n",
       " 'endless',\n",
       " 'new',\n",
       " 'possibilities',\n",
       " '.',\n",
       " 'As',\n",
       " 'a',\n",
       " 'software',\n",
       " 'engineer',\n",
       " ',',\n",
       " 'I',\n",
       " 'find',\n",
       " 'it',\n",
       " 'exciting',\n",
       " 'to',\n",
       " 'see',\n",
       " 'how',\n",
       " 'quickly',\n",
       " 'the',\n",
       " 'tech',\n",
       " 'world',\n",
       " 'keeps',\n",
       " 'evolving—there',\n",
       " \"'s\",\n",
       " 'always',\n",
       " 'something',\n",
       " 'new',\n",
       " 'to',\n",
       " 'learn',\n",
       " 'and',\n",
       " 'explore',\n",
       " '.']"
      ]
     },
     "execution_count": 8,
     "metadata": {},
     "output_type": "execute_result"
    }
   ],
   "source": [
    "tokenized_word = word_tokenize(text)\n",
    "tokenized_word"
   ]
  },
  {
   "cell_type": "code",
   "execution_count": 9,
   "id": "0494d131-1fb1-48bd-b661-bd28cd6cf119",
   "metadata": {},
   "outputs": [
    {
     "data": {
      "text/plain": [
       "['Technology has completely changed the way we live in the past 10 years.',\n",
       " 'From smartphones to AI-powered apps, everything is becoming 5x faster and more convenient.',\n",
       " 'Developers everywhere are coming up with smart, state-of-the-art solutions to tackle real-world challenges.',\n",
       " 'With cloud computing and big data growing so fast, there are endless new possibilities.',\n",
       " \"As a software engineer, I find it exciting to see how quickly the tech world keeps evolving—there's always something new to learn and explore.\"]"
      ]
     },
     "execution_count": 9,
     "metadata": {},
     "output_type": "execute_result"
    }
   ],
   "source": [
    "tokenized_sent = sent_tokenize(text)\n",
    "tokenized_sent "
   ]
  },
  {
   "cell_type": "markdown",
   "id": "44444113-2d8b-407e-ac54-09ec3d5ee2b1",
   "metadata": {},
   "source": [
    "## 3.\tSplit using split() and word_tokenize() and compare how Python split and NLTK’s word_tokenize() differ."
   ]
  },
  {
   "cell_type": "code",
   "execution_count": 11,
   "id": "aab42ed0-2026-4796-b416-0a0119bcec46",
   "metadata": {
    "scrolled": true
   },
   "outputs": [
    {
     "data": {
      "text/plain": [
       "['Technology',\n",
       " 'has',\n",
       " 'completely',\n",
       " 'changed',\n",
       " 'the',\n",
       " 'way',\n",
       " 'we',\n",
       " 'live',\n",
       " 'in',\n",
       " 'the',\n",
       " 'past',\n",
       " '10',\n",
       " 'years.',\n",
       " 'From',\n",
       " 'smartphones',\n",
       " 'to',\n",
       " 'AI-powered',\n",
       " 'apps,',\n",
       " 'everything',\n",
       " 'is',\n",
       " 'becoming',\n",
       " '5x',\n",
       " 'faster',\n",
       " 'and',\n",
       " 'more',\n",
       " 'convenient.',\n",
       " 'Developers',\n",
       " 'everywhere',\n",
       " 'are',\n",
       " 'coming',\n",
       " 'up',\n",
       " 'with',\n",
       " 'smart,',\n",
       " 'state-of-the-art',\n",
       " 'solutions',\n",
       " 'to',\n",
       " 'tackle',\n",
       " 'real-world',\n",
       " 'challenges.',\n",
       " 'With',\n",
       " 'cloud',\n",
       " 'computing',\n",
       " 'and',\n",
       " 'big',\n",
       " 'data',\n",
       " 'growing',\n",
       " 'so',\n",
       " 'fast,',\n",
       " 'there',\n",
       " 'are',\n",
       " 'endless',\n",
       " 'new',\n",
       " 'possibilities.',\n",
       " 'As',\n",
       " 'a',\n",
       " 'software',\n",
       " 'engineer,',\n",
       " 'I',\n",
       " 'find',\n",
       " 'it',\n",
       " 'exciting',\n",
       " 'to',\n",
       " 'see',\n",
       " 'how',\n",
       " 'quickly',\n",
       " 'the',\n",
       " 'tech',\n",
       " 'world',\n",
       " 'keeps',\n",
       " \"evolving—there's\",\n",
       " 'always',\n",
       " 'something',\n",
       " 'new',\n",
       " 'to',\n",
       " 'learn',\n",
       " 'and',\n",
       " 'explore.']"
      ]
     },
     "execution_count": 11,
     "metadata": {},
     "output_type": "execute_result"
    }
   ],
   "source": [
    "split_text = text.split()\n",
    "split_text"
   ]
  },
  {
   "cell_type": "code",
   "execution_count": 12,
   "id": "478ca29a-e245-4539-8638-79ea4c27918e",
   "metadata": {
    "scrolled": true
   },
   "outputs": [
    {
     "data": {
      "text/plain": [
       "['Technology',\n",
       " 'has',\n",
       " 'completely',\n",
       " 'changed',\n",
       " 'the',\n",
       " 'way',\n",
       " 'we',\n",
       " 'live',\n",
       " 'in',\n",
       " 'the',\n",
       " 'past',\n",
       " '10',\n",
       " 'years',\n",
       " '.',\n",
       " 'From',\n",
       " 'smartphones',\n",
       " 'to',\n",
       " 'AI-powered',\n",
       " 'apps',\n",
       " ',',\n",
       " 'everything',\n",
       " 'is',\n",
       " 'becoming',\n",
       " '5x',\n",
       " 'faster',\n",
       " 'and',\n",
       " 'more',\n",
       " 'convenient',\n",
       " '.',\n",
       " 'Developers',\n",
       " 'everywhere',\n",
       " 'are',\n",
       " 'coming',\n",
       " 'up',\n",
       " 'with',\n",
       " 'smart',\n",
       " ',',\n",
       " 'state-of-the-art',\n",
       " 'solutions',\n",
       " 'to',\n",
       " 'tackle',\n",
       " 'real-world',\n",
       " 'challenges',\n",
       " '.',\n",
       " 'With',\n",
       " 'cloud',\n",
       " 'computing',\n",
       " 'and',\n",
       " 'big',\n",
       " 'data',\n",
       " 'growing',\n",
       " 'so',\n",
       " 'fast',\n",
       " ',',\n",
       " 'there',\n",
       " 'are',\n",
       " 'endless',\n",
       " 'new',\n",
       " 'possibilities',\n",
       " '.',\n",
       " 'As',\n",
       " 'a',\n",
       " 'software',\n",
       " 'engineer',\n",
       " ',',\n",
       " 'I',\n",
       " 'find',\n",
       " 'it',\n",
       " 'exciting',\n",
       " 'to',\n",
       " 'see',\n",
       " 'how',\n",
       " 'quickly',\n",
       " 'the',\n",
       " 'tech',\n",
       " 'world',\n",
       " 'keeps',\n",
       " 'evolving—there',\n",
       " \"'s\",\n",
       " 'always',\n",
       " 'something',\n",
       " 'new',\n",
       " 'to',\n",
       " 'learn',\n",
       " 'and',\n",
       " 'explore',\n",
       " '.']"
      ]
     },
     "execution_count": 12,
     "metadata": {},
     "output_type": "execute_result"
    }
   ],
   "source": [
    "tokenized_word = word_tokenize(text)\n",
    "tokenized_word"
   ]
  },
  {
   "cell_type": "code",
   "execution_count": 13,
   "id": "02b363cf-9d3c-4174-ba77-bd35761703ed",
   "metadata": {},
   "outputs": [],
   "source": [
    "## .split() splits only on spaces. word_tokenize() handles punctuation and contractions better."
   ]
  },
  {
   "cell_type": "markdown",
   "id": "cf787426-61b5-4ba1-9c5e-987b5e9f93e9",
   "metadata": {},
   "source": [
    "## 4. Remove stopwords (using NLTK's stopwords list)."
   ]
  },
  {
   "cell_type": "code",
   "execution_count": 15,
   "id": "7fd5e395-d52a-465c-8653-f90460549c79",
   "metadata": {
    "scrolled": true
   },
   "outputs": [
    {
     "data": {
      "text/plain": [
       "['Technology',\n",
       " 'completely',\n",
       " 'changed',\n",
       " 'way',\n",
       " 'live',\n",
       " 'past',\n",
       " '10',\n",
       " 'years',\n",
       " '.',\n",
       " 'From',\n",
       " 'smartphones',\n",
       " 'AI-powered',\n",
       " 'apps',\n",
       " ',',\n",
       " 'everything',\n",
       " 'becoming',\n",
       " '5x',\n",
       " 'faster',\n",
       " 'convenient',\n",
       " '.',\n",
       " 'Developers',\n",
       " 'everywhere',\n",
       " 'coming',\n",
       " 'smart',\n",
       " ',',\n",
       " 'state-of-the-art',\n",
       " 'solutions',\n",
       " 'tackle',\n",
       " 'real-world',\n",
       " 'challenges',\n",
       " '.',\n",
       " 'With',\n",
       " 'cloud',\n",
       " 'computing',\n",
       " 'big',\n",
       " 'data',\n",
       " 'growing',\n",
       " 'fast',\n",
       " ',',\n",
       " 'endless',\n",
       " 'new',\n",
       " 'possibilities',\n",
       " '.',\n",
       " 'As',\n",
       " 'software',\n",
       " 'engineer',\n",
       " ',',\n",
       " 'I',\n",
       " 'find',\n",
       " 'exciting',\n",
       " 'see',\n",
       " 'quickly',\n",
       " 'tech',\n",
       " 'world',\n",
       " 'keeps',\n",
       " 'evolving—there',\n",
       " \"'s\",\n",
       " 'always',\n",
       " 'something',\n",
       " 'new',\n",
       " 'learn',\n",
       " 'explore',\n",
       " '.']"
      ]
     },
     "execution_count": 15,
     "metadata": {},
     "output_type": "execute_result"
    }
   ],
   "source": [
    "stopwords = stopwords.words('english')\n",
    "no_stopwords = [i for i in tokenized_word if i not in stopwords]\n",
    "no_stopwords"
   ]
  },
  {
   "cell_type": "markdown",
   "id": "eb27e565-7931-45aa-8516-84d57d1f67b7",
   "metadata": {},
   "source": [
    "## 5. Display word frequency distribution (excluding stopwords)."
   ]
  },
  {
   "cell_type": "code",
   "execution_count": 17,
   "id": "9d457440-8660-40be-bbd2-9607a1cf0386",
   "metadata": {},
   "outputs": [
    {
     "data": {
      "text/plain": [
       "FreqDist({'.': 5, ',': 4, 'new': 2, 'Technology': 1, 'completely': 1, 'changed': 1, 'way': 1, 'live': 1, 'past': 1, '10': 1, ...})"
      ]
     },
     "execution_count": 17,
     "metadata": {},
     "output_type": "execute_result"
    }
   ],
   "source": [
    "fdist = FreqDist(no_stopwords)\n",
    "fdist"
   ]
  },
  {
   "cell_type": "markdown",
   "id": "88a4bddb-3d2b-42f2-8b23-0eb7b167641e",
   "metadata": {},
   "source": [
    "# Q2. Using the same paragraph from Q1:"
   ]
  },
  {
   "cell_type": "markdown",
   "id": "0b0a53fc-56fe-4d70-8744-2b01282fe03b",
   "metadata": {},
   "source": [
    "## 1. Extract all words with only alphabets using re.findall()"
   ]
  },
  {
   "cell_type": "code",
   "execution_count": 20,
   "id": "165fcdbf-172f-406c-9be5-054e167e152b",
   "metadata": {
    "scrolled": true
   },
   "outputs": [
    {
     "data": {
      "text/plain": [
       "['Technology',\n",
       " 'has',\n",
       " 'completely',\n",
       " 'changed',\n",
       " 'the',\n",
       " 'way',\n",
       " 'we',\n",
       " 'live',\n",
       " 'in',\n",
       " 'the',\n",
       " 'past',\n",
       " 'years',\n",
       " 'From',\n",
       " 'smartphones',\n",
       " 'to',\n",
       " 'AI',\n",
       " 'powered',\n",
       " 'apps',\n",
       " 'everything',\n",
       " 'is',\n",
       " 'becoming',\n",
       " 'faster',\n",
       " 'and',\n",
       " 'more',\n",
       " 'convenient',\n",
       " 'Developers',\n",
       " 'everywhere',\n",
       " 'are',\n",
       " 'coming',\n",
       " 'up',\n",
       " 'with',\n",
       " 'smart',\n",
       " 'state',\n",
       " 'of',\n",
       " 'the',\n",
       " 'art',\n",
       " 'solutions',\n",
       " 'to',\n",
       " 'tackle',\n",
       " 'real',\n",
       " 'world',\n",
       " 'challenges',\n",
       " 'With',\n",
       " 'cloud',\n",
       " 'computing',\n",
       " 'and',\n",
       " 'big',\n",
       " 'data',\n",
       " 'growing',\n",
       " 'so',\n",
       " 'fast',\n",
       " 'there',\n",
       " 'are',\n",
       " 'endless',\n",
       " 'new',\n",
       " 'possibilities',\n",
       " 'As',\n",
       " 'a',\n",
       " 'software',\n",
       " 'engineer',\n",
       " 'I',\n",
       " 'find',\n",
       " 'it',\n",
       " 'exciting',\n",
       " 'to',\n",
       " 'see',\n",
       " 'how',\n",
       " 'quickly',\n",
       " 'the',\n",
       " 'tech',\n",
       " 'world',\n",
       " 'keeps',\n",
       " 'evolving',\n",
       " 'there',\n",
       " 's',\n",
       " 'always',\n",
       " 'something',\n",
       " 'new',\n",
       " 'to',\n",
       " 'learn',\n",
       " 'and',\n",
       " 'explore']"
      ]
     },
     "execution_count": 20,
     "metadata": {},
     "output_type": "execute_result"
    }
   ],
   "source": [
    "re.findall(r'\\b[a-zA-Z]+\\b',text)"
   ]
  },
  {
   "cell_type": "markdown",
   "id": "51c4b27f-e3e8-4e30-a8db-55200c1b1a6a",
   "metadata": {},
   "source": [
    "## 2. Remove stop words using NLTK’s stopword list"
   ]
  },
  {
   "cell_type": "code",
   "execution_count": 22,
   "id": "4ab6a33e-1c81-4916-bdee-bc8249053bbb",
   "metadata": {
    "scrolled": true
   },
   "outputs": [
    {
     "data": {
      "text/plain": [
       "['Technology',\n",
       " 'completely',\n",
       " 'changed',\n",
       " 'way',\n",
       " 'live',\n",
       " 'past',\n",
       " '10',\n",
       " 'years',\n",
       " '.',\n",
       " 'From',\n",
       " 'smartphones',\n",
       " 'AI-powered',\n",
       " 'apps',\n",
       " ',',\n",
       " 'everything',\n",
       " 'becoming',\n",
       " '5x',\n",
       " 'faster',\n",
       " 'convenient',\n",
       " '.',\n",
       " 'Developers',\n",
       " 'everywhere',\n",
       " 'coming',\n",
       " 'smart',\n",
       " ',',\n",
       " 'state-of-the-art',\n",
       " 'solutions',\n",
       " 'tackle',\n",
       " 'real-world',\n",
       " 'challenges',\n",
       " '.',\n",
       " 'With',\n",
       " 'cloud',\n",
       " 'computing',\n",
       " 'big',\n",
       " 'data',\n",
       " 'growing',\n",
       " 'fast',\n",
       " ',',\n",
       " 'endless',\n",
       " 'new',\n",
       " 'possibilities',\n",
       " '.',\n",
       " 'As',\n",
       " 'software',\n",
       " 'engineer',\n",
       " ',',\n",
       " 'I',\n",
       " 'find',\n",
       " 'exciting',\n",
       " 'see',\n",
       " 'quickly',\n",
       " 'tech',\n",
       " 'world',\n",
       " 'keeps',\n",
       " 'evolving—there',\n",
       " \"'s\",\n",
       " 'always',\n",
       " 'something',\n",
       " 'new',\n",
       " 'learn',\n",
       " 'explore',\n",
       " '.']"
      ]
     },
     "execution_count": 22,
     "metadata": {},
     "output_type": "execute_result"
    }
   ],
   "source": [
    "no_stopwords = [i for i in tokenized_word if i not in stop_words]\n",
    "no_stopwords"
   ]
  },
  {
   "cell_type": "markdown",
   "id": "a9685b54-aaa4-4980-b190-c518f0c70844",
   "metadata": {},
   "source": [
    "## 3. Perform stemming with PorterStemmer"
   ]
  },
  {
   "cell_type": "code",
   "execution_count": 24,
   "id": "c2f9aabd-cd5c-4863-88de-2d742080ba3e",
   "metadata": {
    "scrolled": true
   },
   "outputs": [
    {
     "data": {
      "text/plain": [
       "['technolog',\n",
       " 'ha',\n",
       " 'complet',\n",
       " 'chang',\n",
       " 'the',\n",
       " 'way',\n",
       " 'we',\n",
       " 'live',\n",
       " 'in',\n",
       " 'the',\n",
       " 'past',\n",
       " '10',\n",
       " 'year',\n",
       " '.',\n",
       " 'from',\n",
       " 'smartphon',\n",
       " 'to',\n",
       " 'ai-pow',\n",
       " 'app',\n",
       " ',',\n",
       " 'everyth',\n",
       " 'is',\n",
       " 'becom',\n",
       " '5x',\n",
       " 'faster',\n",
       " 'and',\n",
       " 'more',\n",
       " 'conveni',\n",
       " '.',\n",
       " 'develop',\n",
       " 'everywher',\n",
       " 'are',\n",
       " 'come',\n",
       " 'up',\n",
       " 'with',\n",
       " 'smart',\n",
       " ',',\n",
       " 'state-of-the-art',\n",
       " 'solut',\n",
       " 'to',\n",
       " 'tackl',\n",
       " 'real-world',\n",
       " 'challeng',\n",
       " '.',\n",
       " 'with',\n",
       " 'cloud',\n",
       " 'comput',\n",
       " 'and',\n",
       " 'big',\n",
       " 'data',\n",
       " 'grow',\n",
       " 'so',\n",
       " 'fast',\n",
       " ',',\n",
       " 'there',\n",
       " 'are',\n",
       " 'endless',\n",
       " 'new',\n",
       " 'possibl',\n",
       " '.',\n",
       " 'as',\n",
       " 'a',\n",
       " 'softwar',\n",
       " 'engin',\n",
       " ',',\n",
       " 'i',\n",
       " 'find',\n",
       " 'it',\n",
       " 'excit',\n",
       " 'to',\n",
       " 'see',\n",
       " 'how',\n",
       " 'quickli',\n",
       " 'the',\n",
       " 'tech',\n",
       " 'world',\n",
       " 'keep',\n",
       " 'evolving—ther',\n",
       " \"'s\",\n",
       " 'alway',\n",
       " 'someth',\n",
       " 'new',\n",
       " 'to',\n",
       " 'learn',\n",
       " 'and',\n",
       " 'explor',\n",
       " '.']"
      ]
     },
     "execution_count": 24,
     "metadata": {},
     "output_type": "execute_result"
    }
   ],
   "source": [
    "stemmer = PorterStemmer()\n",
    "stemmed_text = [stemmer.stem(words) for words in tokenized_word]\n",
    "stemmed_text"
   ]
  },
  {
   "cell_type": "markdown",
   "id": "f74a530d-84a6-4fb5-a181-8964f4f28133",
   "metadata": {},
   "source": [
    "## 4. Perform lemmatization with WordNetLemmatizer"
   ]
  },
  {
   "cell_type": "code",
   "execution_count": 26,
   "id": "bd2cf4d0-c542-4063-bba2-684f85d654c4",
   "metadata": {
    "scrolled": true
   },
   "outputs": [
    {
     "data": {
      "text/plain": [
       "['Technology',\n",
       " 'ha',\n",
       " 'completely',\n",
       " 'changed',\n",
       " 'the',\n",
       " 'way',\n",
       " 'we',\n",
       " 'live',\n",
       " 'in',\n",
       " 'the',\n",
       " 'past',\n",
       " '10',\n",
       " 'year',\n",
       " '.',\n",
       " 'From',\n",
       " 'smartphones',\n",
       " 'to',\n",
       " 'AI-powered',\n",
       " 'apps',\n",
       " ',',\n",
       " 'everything',\n",
       " 'is',\n",
       " 'becoming',\n",
       " '5x',\n",
       " 'faster',\n",
       " 'and',\n",
       " 'more',\n",
       " 'convenient',\n",
       " '.',\n",
       " 'Developers',\n",
       " 'everywhere',\n",
       " 'are',\n",
       " 'coming',\n",
       " 'up',\n",
       " 'with',\n",
       " 'smart',\n",
       " ',',\n",
       " 'state-of-the-art',\n",
       " 'solution',\n",
       " 'to',\n",
       " 'tackle',\n",
       " 'real-world',\n",
       " 'challenge',\n",
       " '.',\n",
       " 'With',\n",
       " 'cloud',\n",
       " 'computing',\n",
       " 'and',\n",
       " 'big',\n",
       " 'data',\n",
       " 'growing',\n",
       " 'so',\n",
       " 'fast',\n",
       " ',',\n",
       " 'there',\n",
       " 'are',\n",
       " 'endless',\n",
       " 'new',\n",
       " 'possibility',\n",
       " '.',\n",
       " 'As',\n",
       " 'a',\n",
       " 'software',\n",
       " 'engineer',\n",
       " ',',\n",
       " 'I',\n",
       " 'find',\n",
       " 'it',\n",
       " 'exciting',\n",
       " 'to',\n",
       " 'see',\n",
       " 'how',\n",
       " 'quickly',\n",
       " 'the',\n",
       " 'tech',\n",
       " 'world',\n",
       " 'keep',\n",
       " 'evolving—there',\n",
       " \"'s\",\n",
       " 'always',\n",
       " 'something',\n",
       " 'new',\n",
       " 'to',\n",
       " 'learn',\n",
       " 'and',\n",
       " 'explore',\n",
       " '.']"
      ]
     },
     "execution_count": 26,
     "metadata": {},
     "output_type": "execute_result"
    }
   ],
   "source": [
    "lemmatizer = WordNetLemmatizer()\n",
    "lemmatized_text = [lemmatizer.lemmatize(word) for word in tokenized_word]\n",
    "lemmatized_text"
   ]
  },
  {
   "cell_type": "markdown",
   "id": "06af29ce-df43-4d25-a8b2-bf7f5c0f1337",
   "metadata": {},
   "source": [
    "## 5.\tCompare the stemmed and lemmatized outputs and explain when you’d prefer one over the other."
   ]
  },
  {
   "cell_type": "code",
   "execution_count": 28,
   "id": "e84e28c7-86bb-4d2c-9046-dc5a6245215a",
   "metadata": {},
   "outputs": [],
   "source": [
    "# Stemming: Faster, but can produce non-dictionary words. Good for search engines.\n",
    "\n",
    "# Lemmatization: More accurate, returns valid root words. Better for analysis or NLP pipelines where grammatical correctness matters."
   ]
  },
  {
   "cell_type": "markdown",
   "id": "1fa20774-6b69-4b03-8a5a-04795ed59984",
   "metadata": {},
   "source": [
    "# Q3. Choose 3 short texts of your own"
   ]
  },
  {
   "cell_type": "code",
   "execution_count": 30,
   "id": "72e7da83-b516-4e6e-aeda-382094872acb",
   "metadata": {},
   "outputs": [],
   "source": [
    "texts = [\n",
    "    \"The camera quality of this phone is amazing and battery lasts long.\",\n",
    "    \"I love the display but the battery drains quickly.\",\n",
    "    \"Great performance overall, but the phone heats up sometimes.\"\n",
    "]"
   ]
  },
  {
   "cell_type": "markdown",
   "id": "4a44d201-611a-4df9-a4af-f2145dfd399f",
   "metadata": {},
   "source": [
    "## 1. Use CountVectorizer to generate the Bag of Words representation."
   ]
  },
  {
   "cell_type": "code",
   "execution_count": 32,
   "id": "3e304162-d144-4f5b-9ee9-4f226f559e1f",
   "metadata": {},
   "outputs": [
    {
     "name": "stdout",
     "output_type": "stream",
     "text": [
      "Feature Names (Vocabulary):\n",
      "['amazing' 'and' 'battery' 'but' 'camera' 'display' 'drains' 'great'\n",
      " 'heats' 'is' 'lasts' 'long' 'love' 'of' 'overall' 'performance' 'phone'\n",
      " 'quality' 'quickly' 'sometimes' 'the' 'this' 'up']\n",
      "\n",
      "Bag of Words Matrix:\n",
      " [[1 1 1 0 1 0 0 0 0 1 1 1 0 1 0 0 1 1 0 0 1 1 0]\n",
      " [0 0 1 1 0 1 1 0 0 0 0 0 1 0 0 0 0 0 1 0 2 0 0]\n",
      " [0 0 0 1 0 0 0 1 1 0 0 0 0 0 1 1 1 0 0 1 1 0 1]]\n"
     ]
    }
   ],
   "source": [
    "count_vec = CountVectorizer()\n",
    "bow_matrix = count_vec.fit_transform(texts)\n",
    "\n",
    "print(\"Feature Names (Vocabulary):\")\n",
    "print(count_vec.get_feature_names_out())\n",
    "print(\"\\nBag of Words Matrix:\\n\", bow_matrix.toarray())"
   ]
  },
  {
   "cell_type": "markdown",
   "id": "3f862ac9-134d-494d-8dee-15600202dd2f",
   "metadata": {},
   "source": [
    "## 2. Use TfidfVectorizer to compute TF-IDF scores."
   ]
  },
  {
   "cell_type": "code",
   "execution_count": 34,
   "id": "beabe13c-08e1-4117-ac48-20f4903adeb5",
   "metadata": {},
   "outputs": [
    {
     "name": "stdout",
     "output_type": "stream",
     "text": [
      "\n",
      "Feature Names:\n",
      "['amazing' 'and' 'battery' 'but' 'camera' 'display' 'drains' 'great'\n",
      " 'heats' 'is' 'lasts' 'long' 'love' 'of' 'overall' 'performance' 'phone'\n",
      " 'quality' 'quickly' 'sometimes' 'the' 'this' 'up']\n",
      "\n",
      "TF-IDF Matrix:\n",
      " [[0.30852405 0.30852405 0.23464049 0.         0.30852405 0.\n",
      "  0.         0.         0.         0.30852405 0.30852405 0.30852405\n",
      "  0.         0.30852405 0.         0.         0.23464049 0.30852405\n",
      "  0.         0.         0.18221927 0.30852405 0.        ]\n",
      " [0.         0.         0.29711419 0.29711419 0.         0.39066946\n",
      "  0.39066946 0.         0.         0.         0.         0.\n",
      "  0.39066946 0.         0.         0.         0.         0.\n",
      "  0.39066946 0.         0.46147135 0.         0.        ]\n",
      " [0.         0.         0.         0.27760064 0.         0.\n",
      "  0.         0.36501149 0.36501149 0.         0.         0.\n",
      "  0.         0.         0.36501149 0.36501149 0.27760064 0.\n",
      "  0.         0.36501149 0.21558166 0.         0.36501149]]\n"
     ]
    }
   ],
   "source": [
    "# Term frequency inverse document frequency\n",
    "tfidf_vec = TfidfVectorizer()\n",
    "tfidf_matrix = tfidf_vec.fit_transform(texts)\n",
    "\n",
    "print(\"\\nFeature Names:\")\n",
    "print(tfidf_vec.get_feature_names_out())\n",
    "print(\"\\nTF-IDF Matrix:\\n\", tfidf_matrix.toarray())"
   ]
  },
  {
   "cell_type": "markdown",
   "id": "183093de-5458-4992-9e3e-6e0132cd3241",
   "metadata": {},
   "source": [
    "## 3. Print and interpret the top 3 keywords from each text using TF-IDF."
   ]
  },
  {
   "cell_type": "code",
   "execution_count": 36,
   "id": "1d282fdf-5a38-42e6-a47a-e8de9f8dbae5",
   "metadata": {},
   "outputs": [
    {
     "name": "stdout",
     "output_type": "stream",
     "text": [
      "['long', 'of', 'and']\n",
      "['the', 'quickly', 'display']\n",
      "['up', 'heats', 'sometimes']\n"
     ]
    }
   ],
   "source": [
    "feature_names = tfidf_vec.get_feature_names_out()\n",
    "\n",
    "for i, row in enumerate(tfidf_matrix.toarray()):\n",
    "    top_indices = row.argsort()[-3:][::-1]\n",
    "    keywords = [feature_names[j] for j in top_indices]\n",
    "    print(keywords)"
   ]
  },
  {
   "cell_type": "markdown",
   "id": "ae0ca69f-fce4-4839-9dcb-551562b9333a",
   "metadata": {},
   "source": [
    "# Q4. Write 2 short texts (4–6 lines each) describing two different technologies (e.g., AI vs Blockchain)."
   ]
  },
  {
   "cell_type": "code",
   "execution_count": 38,
   "id": "575eae88-a6c0-4bda-8b88-0fc1e84be8aa",
   "metadata": {},
   "outputs": [],
   "source": [
    "text1 = \"\"\"Artificial Intelligence (AI) is revolutionizing the world. \n",
    "It enables machines to learn from data, recognize patterns, and make decisions.\n",
    "AI is widely used in healthcare, finance, and autonomous vehicles.\n",
    "It improves efficiency, reduces human error, and personalizes user experiences.\"\"\"\n",
    "\n",
    "text2 = \"\"\"Blockchain is a decentralized digital ledger technology.\n",
    "It ensures secure and transparent transactions across multiple systems.\n",
    "Blockchain is widely used in cryptocurrency, supply chain, and voting systems.\n",
    "It reduces fraud, removes intermediaries, and increases trust in digital exchanges.\"\"\""
   ]
  },
  {
   "cell_type": "markdown",
   "id": "45728d69-b709-4305-b7a5-d459cc30f871",
   "metadata": {},
   "source": [
    "## 1. Preprocess and tokenize both texts."
   ]
  },
  {
   "cell_type": "code",
   "execution_count": 50,
   "id": "0916f359-fe4d-4972-87c3-b30d9591df06",
   "metadata": {
    "scrolled": true
   },
   "outputs": [
    {
     "name": "stdout",
     "output_type": "stream",
     "text": [
      "['artificial', 'intelligence', 'ai', 'revolutionizing', 'world', 'enables', 'machines', 'learn', 'data', 'recognize', 'patterns', 'make', 'decisions', 'ai', 'widely', 'used', 'healthcare', 'finance', 'autonomous', 'vehicles', 'improves', 'efficiency', 'reduces', 'human', 'error', 'personalizes', 'user', 'experiences']\n",
      "['blockchain', 'decentralized', 'digital', 'ledger', 'technology', 'ensures', 'secure', 'transparent', 'transactions', 'across', 'multiple', 'systems', 'blockchain', 'widely', 'used', 'cryptocurrency', 'supply', 'chain', 'voting', 'systems', 'reduces', 'fraud', 'removes', 'intermediaries', 'increases', 'trust', 'digital', 'exchanges']\n"
     ]
    }
   ],
   "source": [
    "def preprocess(text):\n",
    "    lower_text = text.lower()\n",
    "    text = \"\".join([word for word in lower_text if word not in string.punctuation])\n",
    "    tokens = word_tokenize(text)\n",
    "    stop_words = set(stopwords.words('english'))\n",
    "    return [word for word in tokens if word not in stop_words]\n",
    "\n",
    "tokens1 = preprocess(text1)\n",
    "tokens2 = preprocess(text2)\n",
    "\n",
    "print(tokens1)\n",
    "print(tokens2)"
   ]
  },
  {
   "cell_type": "markdown",
   "id": "ed2aa294-5691-4683-841f-89f3fda53fab",
   "metadata": {},
   "source": [
    "## 2. Calculate:"
   ]
  },
  {
   "cell_type": "markdown",
   "id": "7912738f-6da0-4fac-b442-47d4aa7751fe",
   "metadata": {},
   "source": [
    "## a. Jaccard Similarity using sets"
   ]
  },
  {
   "cell_type": "code",
   "execution_count": 54,
   "id": "b5186121-6828-4fc0-8dfe-ffdca773e7af",
   "metadata": {},
   "outputs": [
    {
     "name": "stdout",
     "output_type": "stream",
     "text": [
      "Jaccard Similarity: 0.061224489795918366\n"
     ]
    }
   ],
   "source": [
    "set1 = set(tokens1)\n",
    "set2 = set(tokens2)\n",
    "\n",
    "jaccard_sim = len(set1 & set2) / len(set1 | set2)\n",
    "print(\"Jaccard Similarity:\", jaccard_sim)"
   ]
  },
  {
   "cell_type": "markdown",
   "id": "b0bb3ba4-cfc0-4e41-a9dd-c72183874452",
   "metadata": {},
   "source": [
    "## b. Cosine Similarity using TfidfVectorizer + cosine_similarity()"
   ]
  },
  {
   "cell_type": "code",
   "execution_count": 57,
   "id": "7b468423-8cdc-4155-a2bb-821fc9710aea",
   "metadata": {},
   "outputs": [
    {
     "name": "stdout",
     "output_type": "stream",
     "text": [
      "Cosine Similarity: 0.2659888657106111\n"
     ]
    }
   ],
   "source": [
    "tfidf = TfidfVectorizer()\n",
    "tfidf_matrix = tfidf.fit_transform([text1, text2])\n",
    "\n",
    "cos_sim = cosine_similarity(tfidf_matrix[0:1], tfidf_matrix[1:2])\n",
    "print(\"Cosine Similarity:\", cos_sim[0][0])"
   ]
  },
  {
   "cell_type": "markdown",
   "id": "6e44de0b-feed-4099-b29a-bb20f62640ab",
   "metadata": {},
   "source": [
    "## c. Analyze which similarity metric gives better insights in your case."
   ]
  },
  {
   "cell_type": "code",
   "execution_count": 60,
   "id": "b722ac6e-e69d-4c5e-805d-825d52fac705",
   "metadata": {},
   "outputs": [],
   "source": [
    "# Cosine Similarity gives better insights"
   ]
  },
  {
   "cell_type": "markdown",
   "id": "e0b012ba-270e-4369-9377-8c1804a3c9cb",
   "metadata": {},
   "source": [
    "## Q5. Write a short review for a product or service."
   ]
  },
  {
   "cell_type": "code",
   "execution_count": 63,
   "id": "55815bc7-2864-42ee-84b6-553fecb58ae3",
   "metadata": {},
   "outputs": [],
   "source": [
    "reviews = [\n",
    "    \"This phone has an amazing display and the battery lasts all day.\",\n",
    "    \"The camera quality is poor and it heats up quickly.\",\n",
    "    \"Decent performance for the price. Nothing extraordinary, but works fine.\",\n",
    "    \"Absolutely love the smooth experience. Very fast and reliable.\",\n",
    "    \"Not happy with the charging speed. It drains fast.\"\n",
    "]"
   ]
  },
  {
   "cell_type": "markdown",
   "id": "f652dd93-9fa0-4e1f-83c2-ea8556734bee",
   "metadata": {},
   "source": [
    "## 1. Use TextBlob or VADER to find polarity & subjectivity for each review."
   ]
  },
  {
   "cell_type": "code",
   "execution_count": 66,
   "id": "ed676223-9a52-485a-ac94-1c723dd30432",
   "metadata": {},
   "outputs": [
    {
     "name": "stdout",
     "output_type": "stream",
     "text": [
      "Review 1:\n",
      "  Polarity: 0.6000000000000001\n",
      "  Subjectivity: 0.9\n",
      "Review 2:\n",
      "  Polarity: -0.033333333333333354\n",
      "  Subjectivity: 0.55\n",
      "Review 3:\n",
      "  Polarity: 0.3055555555555556\n",
      "  Subjectivity: 0.7222222222222222\n",
      "Review 4:\n",
      "  Polarity: 0.3866666666666667\n",
      "  Subjectivity: 0.6266666666666667\n",
      "Review 5:\n",
      "  Polarity: -0.1\n",
      "  Subjectivity: 0.8\n"
     ]
    }
   ],
   "source": [
    "for i, review in enumerate(reviews):\n",
    "    blob = TextBlob(review)\n",
    "    polarity = blob.sentiment.polarity\n",
    "    subjectivity = blob.sentiment.subjectivity\n",
    "    print(f\"Review {i+1}:\")\n",
    "    print(f\"  Polarity: {polarity}\")\n",
    "    print(f\"  Subjectivity: {subjectivity}\")"
   ]
  },
  {
   "cell_type": "markdown",
   "id": "628df5d9-1dfe-4b93-a086-f701a0184411",
   "metadata": {},
   "source": [
    "## 2. Classify reviews into Positive / Negative / Neutral."
   ]
  },
  {
   "cell_type": "code",
   "execution_count": 69,
   "id": "51cac1e3-c9e0-4cf5-a16d-eb6699fddf45",
   "metadata": {},
   "outputs": [
    {
     "name": "stdout",
     "output_type": "stream",
     "text": [
      "Review 1 is Positive\n",
      "Review 2 is Negative\n",
      "Review 3 is Positive\n",
      "Review 4 is Positive\n",
      "Review 5 is Negative\n"
     ]
    }
   ],
   "source": [
    "def classify_sentiment(polarity):\n",
    "    if polarity > 0:\n",
    "        return \"Positive\"\n",
    "    elif polarity < 0:\n",
    "        return \"Negative\"\n",
    "    else:\n",
    "        return \"Neutral\"\n",
    "\n",
    "for i, review in enumerate(reviews):\n",
    "    blob = TextBlob(review)\n",
    "    sentiment = classify_sentiment(blob.sentiment.polarity)\n",
    "    print(f\"Review {i+1} is {sentiment}\")"
   ]
  },
  {
   "cell_type": "markdown",
   "id": "cbada414-9fab-4388-b58a-f2c2706d9f52",
   "metadata": {},
   "source": [
    "## 3. Create a word cloud using the wordcloud library for all positive reviews."
   ]
  },
  {
   "cell_type": "code",
   "execution_count": 72,
   "id": "cbb98a78-43e5-4d75-a4b4-dc1ea897b5f4",
   "metadata": {},
   "outputs": [
    {
     "data": {
      "image/png": "[encoded data removed]",
      "text/plain": [
       "<Figure size 800x600 with 1 Axes>"
      ]
     },
     "metadata": {},
     "output_type": "display_data"
    }
   ],
   "source": [
    "positive_text = \" \".join([\n",
    "    review for review in reviews if TextBlob(review).sentiment.polarity > 0\n",
    "])\n",
    "\n",
    "wordcloud = WordCloud(width=600, height=400, background_color='white').generate(positive_text)\n",
    "\n",
    "plt.figure(figsize=(8, 6))\n",
    "plt.imshow(wordcloud, interpolation='bilinear')\n",
    "plt.axis(\"off\")\n",
    "plt.title(\"Word Cloud for Positive Reviews\")\n",
    "plt.show()"
   ]
  },
  {
   "cell_type": "markdown",
   "id": "fa448adc-3545-4ff3-bd26-4e6a41742bae",
   "metadata": {},
   "source": [
    "# Q6. Choose your own paragraph (~100 words) as training data."
   ]
  },
  {
   "cell_type": "code",
   "execution_count": 75,
   "id": "3d982319-5de6-450c-9946-7b941fdbbfc7",
   "metadata": {},
   "outputs": [],
   "source": [
    "text = \"\"\"Technology is evolving faster than ever. Artificial intelligence and machine learning are shaping the future. \n",
    "From self-driving cars to intelligent assistants, innovation is everywhere. Developers are continuously building smarter systems. \n",
    "The rise of cloud computing and data analytics has transformed how businesses operate. \n",
    "With each advancement, we move closer to a more connected, efficient world.\"\"\""
   ]
  },
  {
   "cell_type": "markdown",
   "id": "7cdc9053-817c-4b99-8607-3bfa8505586f",
   "metadata": {},
   "source": [
    "## 1. Tokenize text using Tokenizer() from keras.preprocessing.text"
   ]
  },
  {
   "cell_type": "code",
   "execution_count": 78,
   "id": "5ea79e92-76c4-40c5-8118-dc0234520b8b",
   "metadata": {},
   "outputs": [
    {
     "name": "stdout",
     "output_type": "stream",
     "text": [
      "Total words: 52\n",
      "Total words: 52\n"
     ]
    }
   ],
   "source": [
    "tokenizer = Tokenizer()\n",
    "tokenizer.fit_on_texts([text])\n",
    "\n",
    "total_words = len(tokenizer.word_index) + 1\n",
    "print(\"Total words:\", total_words)\n",
    "\n",
    "# Convert text into sequence of tokens\n",
    "input_sequences = []\n",
    "tokens = tokenizer.texts_to_sequences([text])[0]\n",
    "\n",
    "for i in range(1, len(tokens)):\n",
    "    n_gram_sequence = tokens[:i+1]\n",
    "    input_sequences.append(n_gram_sequence)\n",
    "import numpy as np\n",
    "\n",
    "tokenizer = Tokenizer()\n",
    "tokenizer.fit_on_texts([text])\n",
    "\n",
    "total_words = len(tokenizer.word_index) + 1\n",
    "print(\"Total words:\", total_words)\n",
    "\n",
    "# Convert text into sequence of tokens\n",
    "input_sequences = []\n",
    "tokens = tokenizer.texts_to_sequences([text])[0]\n",
    "\n",
    "for i in range(1, len(tokens)):\n",
    "    n_gram_sequence = tokens[:i+1]\n",
    "    input_sequences.append(n_gram_sequence)"
   ]
  },
  {
   "cell_type": "markdown",
   "id": "5f1cd14b-60e8-4eb1-9342-1fbe403be13e",
   "metadata": {},
   "source": [
    "## 2. Create input sequences and build a simple LSTM or Dense model"
   ]
  },
  {
   "cell_type": "code",
   "execution_count": 81,
   "id": "66bd356b-51b3-485e-968f-91bacdd0b93a",
   "metadata": {},
   "outputs": [],
   "source": [
    "max_sequence_len = max([len(seq) for seq in input_sequences])\n",
    "input_sequences = pad_sequences(input_sequences, maxlen=max_sequence_len, padding='pre')\n",
    "\n",
    "X = input_sequences[:, :-1]\n",
    "y = to_categorical(input_sequences[:, -1], num_classes=total_words)"
   ]
  },
  {
   "cell_type": "code",
   "execution_count": null,
   "id": "3e93b65e-d055-40a5-883b-c697ced7cf2a",
   "metadata": {},
   "outputs": [
    {
     "name": "stderr",
     "output_type": "stream",
     "text": [
      "C:\\Users\\kashi\\anaconda3\\Lib\\site-packages\\keras\\src\\layers\\core\\embedding.py:90: UserWarning: Argument `input_length` is deprecated. Just remove it.\n",
      "  warnings.warn(\n"
     ]
    }
   ],
   "source": [
    "model = Sequential()\n",
    "model.add(Embedding(total_words, 10, input_length=max_sequence_len-1))\n",
    "model.add(LSTM(100))\n",
    "model.add(Dense(total_words, activation='softmax'))\n",
    "\n",
    "model.compile(loss='categorical_crossentropy', optimizer='adam', metrics=['accuracy'])\n",
    "model.fit(X, y, epochs=200, verbose=0)"
   ]
  },
  {
   "cell_type": "markdown",
   "id": "1ce3de39-af1f-4b6e-8ee3-9b02d5a951ae",
   "metadata": {},
   "source": [
    "## 3. Train the model and generate 2–3 new lines of text starting from any seed word you provide."
   ]
  },
  {
   "cell_type": "code",
   "execution_count": null,
   "id": "3b26ae5f-1cab-4e56-9baf-7127dd8f1fde",
   "metadata": {},
   "outputs": [],
   "source": [
    "seed_text = \"technology\"\n",
    "next_words = 5\n",
    "\n",
    "for _ in range(next_words):\n",
    "    token_list = tokenizer.texts_to_sequences([seed_text])[0]\n",
    "    token_list = pad_sequences([token_list], maxlen=max_sequence_len-1, padding='pre')\n",
    "    predicted = model.predict(token_list, verbose=0)\n",
    "    predicted_word = tokenizer.index_word[np.argmax(predicted)]\n",
    "    seed_text += \" \" + predicted_word\n",
    "\n",
    "print(\"Generated text:\", seed_text)"
   ]
  },
  {
   "cell_type": "code",
   "execution_count": null,
   "id": "5d483daa-b8de-4d77-adf1-be88a5841993",
   "metadata": {},
   "outputs": [],
   "source": []
  }
 ],
 "metadata": {
  "kernelspec": {
   "display_name": "Python 3 (ipykernel)",
   "language": "python",
   "name": "python3"
  },
  "language_info": {
   "codemirror_mode": {
    "name": "ipython",
    "version": 3
   },
   "file_extension": ".py",
   "mimetype": "text/x-python",
   "name": "python",
   "nbconvert_exporter": "python",
   "pygments_lexer": "ipython3",
   "version": "3.12.7"
  }
 },
 "nbformat": 4,
 "nbformat_minor": 5
}
