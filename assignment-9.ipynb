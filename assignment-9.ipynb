{
 "cells": [
  {
   "cell_type": "markdown",
   "id": "a0365f86-9279-4d6f-a9cb-6ebfbebe7c73",
   "metadata": {},
   "source": [
    "# NLP"
   ]
  },
  {
   "cell_type": "code",
   "execution_count": 2,
   "id": "56ca35cc-6e80-4365-ae95-c0c0649f5e5e",
   "metadata": {},
   "outputs": [],
   "source": [
    "import re\n",
    "import string\n",
    "import nltk\n",
    "from nltk.corpus import stopwords\n",
    "from nltk.tokenize import word_tokenize, sent_tokenize\n",
    "from nltk.probability import FreqDist\n",
    "from nltk.stem import PorterStemmer, LancasterStemmer , WordNetLemmatizer"
   ]
  },
  {
   "cell_type": "markdown",
   "id": "ff57b68c-d097-4fac-ad56-827011867397",
   "metadata": {},
   "source": [
    "# Q1. Write a unique paragraph (5-6 sentences) about your favorite topic (e.g., sports, technology, food, books, etc.)."
   ]
  },
  {
   "cell_type": "code",
   "execution_count": 4,
   "id": "7059fcfd-1398-4742-bf1b-338a28ade68f",
   "metadata": {},
   "outputs": [],
   "source": [
    "text = \"Technology has completely changed the way we live in the past 10 years. From smartphones to AI-powered apps, everything is becoming 5x faster and more convenient. Developers everywhere are coming up with smart, state-of-the-art solutions to tackle real-world challenges. With cloud computing and big data growing so fast, there are endless new possibilities. As a software engineer, I find it exciting to see how quickly the tech world keeps evolving—there's always something new to learn and explore.\""
   ]
  },
  {
   "cell_type": "markdown",
   "id": "135ade3e-3a20-43b0-8f5e-efc49c090f7e",
   "metadata": {},
   "source": [
    "## 1. Convert text to lowercase and remove punctuaƟon."
   ]
  },
  {
   "cell_type": "code",
   "execution_count": 6,
   "id": "b5323da9-0904-4502-8b6d-9e1b478be5b5",
   "metadata": {},
   "outputs": [
    {
     "data": {
      "text/plain": [
       "\"technology has completely changed the way we live in the past 10 years. from smartphones to ai-powered apps, everything is becoming 5x faster and more convenient. developers everywhere are coming up with smart, state-of-the-art solutions to tackle real-world challenges. with cloud computing and big data growing so fast, there are endless new possibilities. as a software engineer, i find it exciting to see how quickly the tech world keeps evolving—there's always something new to learn and explore.\""
      ]
     },
     "execution_count": 6,
     "metadata": {},
     "output_type": "execute_result"
    }
   ],
   "source": [
    "lower_text = text.lower()\n",
    "lower_text"
   ]
  },
  {
   "cell_type": "code",
   "execution_count": 7,
   "id": "89089fa7-7be7-4651-b007-a13bc35c710f",
   "metadata": {},
   "outputs": [
    {
     "data": {
      "text/plain": [
       "'technology has completely changed the way we live in the past 10 years from smartphones to aipowered apps everything is becoming 5x faster and more convenient developers everywhere are coming up with smart stateoftheart solutions to tackle realworld challenges with cloud computing and big data growing so fast there are endless new possibilities as a software engineer i find it exciting to see how quickly the tech world keeps evolving—theres always something new to learn and explore'"
      ]
     },
     "execution_count": 7,
     "metadata": {},
     "output_type": "execute_result"
    }
   ],
   "source": [
    "no_punctuation_txt = \"\".join([word for word in lower_text if word not in string.punctuation])\n",
    "no_punctuation_txt"
   ]
  },
  {
   "cell_type": "markdown",
   "id": "5db6d972-b081-4de8-868a-d612022b99bb",
   "metadata": {},
   "source": [
    "## 2. Tokenize the text into words and sentences."
   ]
  },
  {
   "cell_type": "code",
   "execution_count": 9,
   "id": "d731e19c-89d3-4d03-9a6b-abd08648be05",
   "metadata": {
    "scrolled": true
   },
   "outputs": [
    {
     "data": {
      "text/plain": [
       "['technology',\n",
       " 'has',\n",
       " 'completely',\n",
       " 'changed',\n",
       " 'the',\n",
       " 'way',\n",
       " 'we',\n",
       " 'live',\n",
       " 'in',\n",
       " 'the',\n",
       " 'past',\n",
       " '10',\n",
       " 'years',\n",
       " 'from',\n",
       " 'smartphones',\n",
       " 'to',\n",
       " 'aipowered',\n",
       " 'apps',\n",
       " 'everything',\n",
       " 'is',\n",
       " 'becoming',\n",
       " '5x',\n",
       " 'faster',\n",
       " 'and',\n",
       " 'more',\n",
       " 'convenient',\n",
       " 'developers',\n",
       " 'everywhere',\n",
       " 'are',\n",
       " 'coming',\n",
       " 'up',\n",
       " 'with',\n",
       " 'smart',\n",
       " 'stateoftheart',\n",
       " 'solutions',\n",
       " 'to',\n",
       " 'tackle',\n",
       " 'realworld',\n",
       " 'challenges',\n",
       " 'with',\n",
       " 'cloud',\n",
       " 'computing',\n",
       " 'and',\n",
       " 'big',\n",
       " 'data',\n",
       " 'growing',\n",
       " 'so',\n",
       " 'fast',\n",
       " 'there',\n",
       " 'are',\n",
       " 'endless',\n",
       " 'new',\n",
       " 'possibilities',\n",
       " 'as',\n",
       " 'a',\n",
       " 'software',\n",
       " 'engineer',\n",
       " 'i',\n",
       " 'find',\n",
       " 'it',\n",
       " 'exciting',\n",
       " 'to',\n",
       " 'see',\n",
       " 'how',\n",
       " 'quickly',\n",
       " 'the',\n",
       " 'tech',\n",
       " 'world',\n",
       " 'keeps',\n",
       " 'evolving—theres',\n",
       " 'always',\n",
       " 'something',\n",
       " 'new',\n",
       " 'to',\n",
       " 'learn',\n",
       " 'and',\n",
       " 'explore']"
      ]
     },
     "execution_count": 9,
     "metadata": {},
     "output_type": "execute_result"
    }
   ],
   "source": [
    "word_tokens = word_tokenize(no_punctuation_txt)\n",
    "word_tokens"
   ]
  },
  {
   "cell_type": "code",
   "execution_count": 10,
   "id": "3613edc4-e6a4-43da-b0ca-2e161033a358",
   "metadata": {},
   "outputs": [
    {
     "data": {
      "text/plain": [
       "['technology has completely changed the way we live in the past 10 years.',\n",
       " 'from smartphones to ai-powered apps, everything is becoming 5x faster and more convenient.',\n",
       " 'developers everywhere are coming up with smart, state-of-the-art solutions to tackle real-world challenges.',\n",
       " 'with cloud computing and big data growing so fast, there are endless new possibilities.',\n",
       " \"as a software engineer, i find it exciting to see how quickly the tech world keeps evolving—there's always something new to learn and explore.\"]"
      ]
     },
     "execution_count": 10,
     "metadata": {},
     "output_type": "execute_result"
    }
   ],
   "source": [
    "sent_tokens = sent_tokenize(lower_text)\n",
    "sent_tokens"
   ]
  },
  {
   "cell_type": "markdown",
   "id": "7eee85ca-134d-4b12-b6c1-afa322d4e320",
   "metadata": {},
   "source": [
    "## 3. Remove stopwords"
   ]
  },
  {
   "cell_type": "code",
   "execution_count": 12,
   "id": "9f46dcf1-f99f-4640-9683-c8af40dc9bd0",
   "metadata": {
    "scrolled": true
   },
   "outputs": [
    {
     "data": {
      "text/plain": [
       "['technology',\n",
       " 'completely',\n",
       " 'changed',\n",
       " 'way',\n",
       " 'live',\n",
       " 'past',\n",
       " '10',\n",
       " 'years',\n",
       " 'smartphones',\n",
       " 'aipowered',\n",
       " 'apps',\n",
       " 'everything',\n",
       " 'becoming',\n",
       " '5x',\n",
       " 'faster',\n",
       " 'convenient',\n",
       " 'developers',\n",
       " 'everywhere',\n",
       " 'coming',\n",
       " 'smart',\n",
       " 'stateoftheart',\n",
       " 'solutions',\n",
       " 'tackle',\n",
       " 'realworld',\n",
       " 'challenges',\n",
       " 'cloud',\n",
       " 'computing',\n",
       " 'big',\n",
       " 'data',\n",
       " 'growing',\n",
       " 'fast',\n",
       " 'endless',\n",
       " 'new',\n",
       " 'possibilities',\n",
       " 'software',\n",
       " 'engineer',\n",
       " 'find',\n",
       " 'exciting',\n",
       " 'see',\n",
       " 'quickly',\n",
       " 'tech',\n",
       " 'world',\n",
       " 'keeps',\n",
       " 'evolving—theres',\n",
       " 'always',\n",
       " 'something',\n",
       " 'new',\n",
       " 'learn',\n",
       " 'explore']"
      ]
     },
     "execution_count": 12,
     "metadata": {},
     "output_type": "execute_result"
    }
   ],
   "source": [
    "stopwords = stopwords.words('english')\n",
    "no_stopwords = [i for i in word_tokens if i not in stopwords]\n",
    "no_stopwords"
   ]
  },
  {
   "cell_type": "markdown",
   "id": "4a900afa-40b3-4d0e-af0c-107b5f9d0783",
   "metadata": {},
   "source": [
    "## 4. Display word frequency distribution (excluding stopwords)."
   ]
  },
  {
   "cell_type": "code",
   "execution_count": 14,
   "id": "957e62f4-edcf-462a-af61-836960ee6d3b",
   "metadata": {},
   "outputs": [
    {
     "name": "stdout",
     "output_type": "stream",
     "text": [
      "[('new', 2), ('technology', 1), ('completely', 1), ('changed', 1), ('way', 1), ('live', 1), ('past', 1), ('10', 1), ('years', 1), ('smartphones', 1)]\n"
     ]
    },
    {
     "data": {
      "text/plain": [
       "<Axes: title={'center': 'Top Words'}, xlabel='Samples', ylabel='Counts'>"
      ]
     },
     "execution_count": 14,
     "metadata": {},
     "output_type": "execute_result"
    },
    {
     "data": {
      "image/png": "[encoded data removed]",
      "text/plain": [
       "<Figure size 640x480 with 1 Axes>"
      ]
     },
     "metadata": {},
     "output_type": "display_data"
    }
   ],
   "source": [
    "fd = FreqDist(no_stopwords)\n",
    "print(fd.most_common(10))\n",
    "fd.plot(10, title = \"Top Words\", cumulative=False)"
   ]
  },
  {
   "cell_type": "markdown",
   "id": "63965dec-f6b6-41ef-9984-8eeddb93eeaf",
   "metadata": {},
   "source": [
    "# Q2: Stemming and Lemmatizaion"
   ]
  },
  {
   "cell_type": "markdown",
   "id": "18baf62f-d98d-4eb3-b850-32a795f8501d",
   "metadata": {},
   "source": [
    "## 1. Take the tokenized words from Quesion 1 (after stopword removal)."
   ]
  },
  {
   "cell_type": "code",
   "execution_count": 17,
   "id": "eaf3a880-c6e2-4e5a-8547-d079f0da483f",
   "metadata": {
    "scrolled": true
   },
   "outputs": [
    {
     "data": {
      "text/plain": [
       "['technology',\n",
       " 'completely',\n",
       " 'changed',\n",
       " 'way',\n",
       " 'live',\n",
       " 'past',\n",
       " '10',\n",
       " 'years',\n",
       " 'smartphones',\n",
       " 'aipowered',\n",
       " 'apps',\n",
       " 'everything',\n",
       " 'becoming',\n",
       " '5x',\n",
       " 'faster',\n",
       " 'convenient',\n",
       " 'developers',\n",
       " 'everywhere',\n",
       " 'coming',\n",
       " 'smart',\n",
       " 'stateoftheart',\n",
       " 'solutions',\n",
       " 'tackle',\n",
       " 'realworld',\n",
       " 'challenges',\n",
       " 'cloud',\n",
       " 'computing',\n",
       " 'big',\n",
       " 'data',\n",
       " 'growing',\n",
       " 'fast',\n",
       " 'endless',\n",
       " 'new',\n",
       " 'possibilities',\n",
       " 'software',\n",
       " 'engineer',\n",
       " 'find',\n",
       " 'exciting',\n",
       " 'see',\n",
       " 'quickly',\n",
       " 'tech',\n",
       " 'world',\n",
       " 'keeps',\n",
       " 'evolving—theres',\n",
       " 'always',\n",
       " 'something',\n",
       " 'new',\n",
       " 'learn',\n",
       " 'explore']"
      ]
     },
     "execution_count": 17,
     "metadata": {},
     "output_type": "execute_result"
    }
   ],
   "source": [
    "tokenized_words = no_stopwords\n",
    "tokenized_words"
   ]
  },
  {
   "cell_type": "markdown",
   "id": "1687d602-b41b-410f-9ec7-810340457aab",
   "metadata": {},
   "source": [
    "## 2. Apply stemming using NLTK's PorterStemmer and LancasterStemmer."
   ]
  },
  {
   "cell_type": "code",
   "execution_count": 19,
   "id": "e94d06d5-b2d2-48cf-8635-319eecba819d",
   "metadata": {
    "scrolled": true
   },
   "outputs": [
    {
     "data": {
      "text/plain": [
       "['technolog',\n",
       " 'complet',\n",
       " 'chang',\n",
       " 'way',\n",
       " 'live',\n",
       " 'past',\n",
       " '10',\n",
       " 'year',\n",
       " 'smartphon',\n",
       " 'aipow',\n",
       " 'app',\n",
       " 'everyth',\n",
       " 'becom',\n",
       " '5x',\n",
       " 'faster',\n",
       " 'conveni',\n",
       " 'develop',\n",
       " 'everywher',\n",
       " 'come',\n",
       " 'smart',\n",
       " 'stateoftheart',\n",
       " 'solut',\n",
       " 'tackl',\n",
       " 'realworld',\n",
       " 'challeng',\n",
       " 'cloud',\n",
       " 'comput',\n",
       " 'big',\n",
       " 'data',\n",
       " 'grow',\n",
       " 'fast',\n",
       " 'endless',\n",
       " 'new',\n",
       " 'possibl',\n",
       " 'softwar',\n",
       " 'engin',\n",
       " 'find',\n",
       " 'excit',\n",
       " 'see',\n",
       " 'quickli',\n",
       " 'tech',\n",
       " 'world',\n",
       " 'keep',\n",
       " 'evolving—ther',\n",
       " 'alway',\n",
       " 'someth',\n",
       " 'new',\n",
       " 'learn',\n",
       " 'explor']"
      ]
     },
     "execution_count": 19,
     "metadata": {},
     "output_type": "execute_result"
    }
   ],
   "source": [
    "stemmer = PorterStemmer()\n",
    "stemmer_text = [stemmer.stem(word) for word in tokenized_words]\n",
    "stemmer_text"
   ]
  },
  {
   "cell_type": "code",
   "execution_count": 20,
   "id": "5f85f898-5dba-4d88-95e2-3b2f1d107e3b",
   "metadata": {
    "scrolled": true
   },
   "outputs": [
    {
     "data": {
      "text/plain": [
       "['technolog',\n",
       " 'complet',\n",
       " 'chang',\n",
       " 'way',\n",
       " 'liv',\n",
       " 'past',\n",
       " '10',\n",
       " 'year',\n",
       " 'smartphon',\n",
       " 'aipow',\n",
       " 'ap',\n",
       " 'everyth',\n",
       " 'becom',\n",
       " '5x',\n",
       " 'fast',\n",
       " 'conveny',\n",
       " 'develop',\n",
       " 'everywh',\n",
       " 'com',\n",
       " 'smart',\n",
       " 'stateoftheart',\n",
       " 'solv',\n",
       " 'tackl',\n",
       " 'realworld',\n",
       " 'challeng',\n",
       " 'cloud',\n",
       " 'comput',\n",
       " 'big',\n",
       " 'dat',\n",
       " 'grow',\n",
       " 'fast',\n",
       " 'endless',\n",
       " 'new',\n",
       " 'poss',\n",
       " 'softw',\n",
       " 'engin',\n",
       " 'find',\n",
       " 'excit',\n",
       " 'see',\n",
       " 'quick',\n",
       " 'tech',\n",
       " 'world',\n",
       " 'keep',\n",
       " 'evolving—theres',\n",
       " 'alway',\n",
       " 'someth',\n",
       " 'new',\n",
       " 'learn',\n",
       " 'expl']"
      ]
     },
     "execution_count": 20,
     "metadata": {},
     "output_type": "execute_result"
    }
   ],
   "source": [
    "lancaster = LancasterStemmer()\n",
    "lancaster_text = [lancaster.stem(word) for word in tokenized_words]\n",
    "lancaster_text"
   ]
  },
  {
   "cell_type": "markdown",
   "id": "0dea80ac-3108-4544-ac0a-2acdb6fb137a",
   "metadata": {},
   "source": [
    "## 3. Apply lemmatizaion using NLTK's WordNetLemmatizer."
   ]
  },
  {
   "cell_type": "code",
   "execution_count": 22,
   "id": "f4a5460f-b6d4-4393-a54a-114b142ded77",
   "metadata": {
    "scrolled": true
   },
   "outputs": [
    {
     "data": {
      "text/plain": [
       "['technology',\n",
       " 'completely',\n",
       " 'changed',\n",
       " 'way',\n",
       " 'live',\n",
       " 'past',\n",
       " '10',\n",
       " 'year',\n",
       " 'smartphones',\n",
       " 'aipowered',\n",
       " 'apps',\n",
       " 'everything',\n",
       " 'becoming',\n",
       " '5x',\n",
       " 'faster',\n",
       " 'convenient',\n",
       " 'developer',\n",
       " 'everywhere',\n",
       " 'coming',\n",
       " 'smart',\n",
       " 'stateoftheart',\n",
       " 'solution',\n",
       " 'tackle',\n",
       " 'realworld',\n",
       " 'challenge',\n",
       " 'cloud',\n",
       " 'computing',\n",
       " 'big',\n",
       " 'data',\n",
       " 'growing',\n",
       " 'fast',\n",
       " 'endless',\n",
       " 'new',\n",
       " 'possibility',\n",
       " 'software',\n",
       " 'engineer',\n",
       " 'find',\n",
       " 'exciting',\n",
       " 'see',\n",
       " 'quickly',\n",
       " 'tech',\n",
       " 'world',\n",
       " 'keep',\n",
       " 'evolving—theres',\n",
       " 'always',\n",
       " 'something',\n",
       " 'new',\n",
       " 'learn',\n",
       " 'explore']"
      ]
     },
     "execution_count": 22,
     "metadata": {},
     "output_type": "execute_result"
    }
   ],
   "source": [
    "lemmatizer = WordNetLemmatizer()\n",
    "lemmatize_txt = [lemmatizer.lemmatize(word) for word in tokenized_words]\n",
    "lemmatize_txt"
   ]
  },
  {
   "cell_type": "markdown",
   "id": "6da98a00-d436-4e1e-9525-b06e05eaaafe",
   "metadata": {},
   "source": [
    "## 4. Compare and display results of both techniques."
   ]
  },
  {
   "cell_type": "code",
   "execution_count": 24,
   "id": "5fa667aa-50a0-45c5-b7e9-85dcd2125a8f",
   "metadata": {},
   "outputs": [
    {
     "name": "stdout",
     "output_type": "stream",
     "text": [
      "Porter Stemming: ['technolog', 'complet', 'chang', 'way', 'live', 'past', '10', 'year', 'smartphon', 'aipow', 'app', 'everyth', 'becom', '5x', 'faster', 'conveni', 'develop', 'everywher', 'come', 'smart', 'stateoftheart', 'solut', 'tackl', 'realworld', 'challeng', 'cloud', 'comput', 'big', 'data', 'grow', 'fast', 'endless', 'new', 'possibl', 'softwar', 'engin', 'find', 'excit', 'see', 'quickli', 'tech', 'world', 'keep', 'evolving—ther', 'alway', 'someth', 'new', 'learn', 'explor']\n",
      "\n",
      "\n",
      "Lancaster Stemming: ['technolog', 'complet', 'chang', 'way', 'liv', 'past', '10', 'year', 'smartphon', 'aipow', 'ap', 'everyth', 'becom', '5x', 'fast', 'conveny', 'develop', 'everywh', 'com', 'smart', 'stateoftheart', 'solv', 'tackl', 'realworld', 'challeng', 'cloud', 'comput', 'big', 'dat', 'grow', 'fast', 'endless', 'new', 'poss', 'softw', 'engin', 'find', 'excit', 'see', 'quick', 'tech', 'world', 'keep', 'evolving—theres', 'alway', 'someth', 'new', 'learn', 'expl']\n",
      "\n",
      "\n",
      "Lemmatization: ['technology', 'completely', 'changed', 'way', 'live', 'past', '10', 'year', 'smartphones', 'aipowered', 'apps', 'everything', 'becoming', '5x', 'faster', 'convenient', 'developer', 'everywhere', 'coming', 'smart', 'stateoftheart', 'solution', 'tackle', 'realworld', 'challenge', 'cloud', 'computing', 'big', 'data', 'growing', 'fast', 'endless', 'new', 'possibility', 'software', 'engineer', 'find', 'exciting', 'see', 'quickly', 'tech', 'world', 'keep', 'evolving—theres', 'always', 'something', 'new', 'learn', 'explore']\n"
     ]
    }
   ],
   "source": [
    "print(\"Porter Stemming:\", stemmer_text)\n",
    "print(\"\\n\")\n",
    "print(\"Lancaster Stemming:\", lancaster_text)\n",
    "print(\"\\n\")\n",
    "print(\"Lemmatization:\", lemmatize_txt)"
   ]
  },
  {
   "cell_type": "markdown",
   "id": "3b5461d7-bf7a-446d-9487-8f58c10fb809",
   "metadata": {},
   "source": [
    "# Q3: Regular Expressions and Text Splitting"
   ]
  },
  {
   "cell_type": "code",
   "execution_count": 26,
   "id": "401e5b97-1731-405d-9d00-029ed5529e5c",
   "metadata": {},
   "outputs": [],
   "source": [
    "import re"
   ]
  },
  {
   "cell_type": "markdown",
   "id": "a852cbf0-4d27-4820-a31b-3d745ead6540",
   "metadata": {},
   "source": [
    "## 1. Take their original text from Question 1."
   ]
  },
  {
   "cell_type": "code",
   "execution_count": 28,
   "id": "62a7b49b-e6f9-4a32-b71f-1b9dae7dc3de",
   "metadata": {},
   "outputs": [],
   "source": [
    "original_text=\"Technology has completely changed the way we live in the past 10 years. From smartphones to AI-powered apps, everything is becoming 5x faster and more convenient. Developers everywhere are coming up with smart, state-of-the-art solutions to tackle real-world challenges. With cloud computing and big data growing so fast, there are endless new possibilities. As a software engineer, I find it exciting to see how quickly the tech world keeps evolving—there’s always something new to learn and explore.\""
   ]
  },
  {
   "cell_type": "markdown",
   "id": "70a53e30-f9dc-477c-9101-7ce27a880198",
   "metadata": {},
   "source": [
    "## 2. Use regular expressions to: "
   ]
  },
  {
   "cell_type": "markdown",
   "id": "62a2c96b-b4a1-4e0b-83db-b135e23f02e6",
   "metadata": {},
   "source": [
    "## a. Extract words with more than 5 letters"
   ]
  },
  {
   "cell_type": "code",
   "execution_count": 31,
   "id": "acadd64e-3c03-4fb2-be49-2e25bb7e8510",
   "metadata": {},
   "outputs": [],
   "source": [
    "words_more_than_5 = re.findall(r'\\b\\w{6,}\\b',original_text)"
   ]
  },
  {
   "cell_type": "code",
   "execution_count": 32,
   "id": "3b872c81-702f-4254-9e29-74fabfacc826",
   "metadata": {
    "scrolled": true
   },
   "outputs": [
    {
     "data": {
      "text/plain": [
       "['Technology',\n",
       " 'completely',\n",
       " 'changed',\n",
       " 'smartphones',\n",
       " 'powered',\n",
       " 'everything',\n",
       " 'becoming',\n",
       " 'faster',\n",
       " 'convenient',\n",
       " 'Developers',\n",
       " 'everywhere',\n",
       " 'coming',\n",
       " 'solutions',\n",
       " 'tackle',\n",
       " 'challenges',\n",
       " 'computing',\n",
       " 'growing',\n",
       " 'endless',\n",
       " 'possibilities',\n",
       " 'software',\n",
       " 'engineer',\n",
       " 'exciting',\n",
       " 'quickly',\n",
       " 'evolving',\n",
       " 'always',\n",
       " 'something',\n",
       " 'explore']"
      ]
     },
     "execution_count": 32,
     "metadata": {},
     "output_type": "execute_result"
    }
   ],
   "source": [
    "words_more_than_5"
   ]
  },
  {
   "cell_type": "markdown",
   "id": "54c3a0ba-2b4e-4234-8d77-8421c0898332",
   "metadata": {},
   "source": [
    "## b. Extract numbers"
   ]
  },
  {
   "cell_type": "code",
   "execution_count": 34,
   "id": "74f89126-bf63-46d6-aefa-0adbefbbf38e",
   "metadata": {},
   "outputs": [],
   "source": [
    "numbers = re.findall(r'\\b\\d+\\b',original_text)"
   ]
  },
  {
   "cell_type": "code",
   "execution_count": 35,
   "id": "6ca83f25-37ca-4103-8518-512666ad4edd",
   "metadata": {},
   "outputs": [
    {
     "data": {
      "text/plain": [
       "['10']"
      ]
     },
     "execution_count": 35,
     "metadata": {},
     "output_type": "execute_result"
    }
   ],
   "source": [
    "numbers"
   ]
  },
  {
   "cell_type": "markdown",
   "id": "0a06e796-d79b-47d1-a03c-09bb444395a0",
   "metadata": {},
   "source": [
    "## c. Extract capitalized words"
   ]
  },
  {
   "cell_type": "code",
   "execution_count": 37,
   "id": "e6838c5c-7974-4ebf-8fde-41963d51b531",
   "metadata": {},
   "outputs": [],
   "source": [
    "capitalized_words = re.findall(r'\\b[A-Z][a-z]*\\b',original_text)"
   ]
  },
  {
   "cell_type": "code",
   "execution_count": 38,
   "id": "dab4ad98-8aa8-49dd-8d43-9813165cf197",
   "metadata": {},
   "outputs": [
    {
     "data": {
      "text/plain": [
       "['Technology', 'From', 'Developers', 'With', 'As', 'I']"
      ]
     },
     "execution_count": 38,
     "metadata": {},
     "output_type": "execute_result"
    }
   ],
   "source": [
    "capitalized_words"
   ]
  },
  {
   "cell_type": "markdown",
   "id": "ecc84cda-d9b9-4881-9461-c2bb27265a3b",
   "metadata": {},
   "source": [
    "## 3. Use text spliƫng techniques to:"
   ]
  },
  {
   "cell_type": "markdown",
   "id": "b11fd2ed-0e58-4e1a-9914-b88c88a4c2cb",
   "metadata": {},
   "source": [
    "## a. Split text into words with only alphabets"
   ]
  },
  {
   "cell_type": "code",
   "execution_count": 41,
   "id": "9de6238a-8685-4c51-a250-8ffb333e3fcb",
   "metadata": {},
   "outputs": [],
   "source": [
    "split_text = re.findall(r'\\b[A-Za-z]+\\b',original_text)"
   ]
  },
  {
   "cell_type": "code",
   "execution_count": 42,
   "id": "5902c863-4702-44cc-8e38-bc302775aab3",
   "metadata": {
    "scrolled": true
   },
   "outputs": [
    {
     "data": {
      "text/plain": [
       "['Technology',\n",
       " 'has',\n",
       " 'completely',\n",
       " 'changed',\n",
       " 'the',\n",
       " 'way',\n",
       " 'we',\n",
       " 'live',\n",
       " 'in',\n",
       " 'the',\n",
       " 'past',\n",
       " 'years',\n",
       " 'From',\n",
       " 'smartphones',\n",
       " 'to',\n",
       " 'AI',\n",
       " 'powered',\n",
       " 'apps',\n",
       " 'everything',\n",
       " 'is',\n",
       " 'becoming',\n",
       " 'faster',\n",
       " 'and',\n",
       " 'more',\n",
       " 'convenient',\n",
       " 'Developers',\n",
       " 'everywhere',\n",
       " 'are',\n",
       " 'coming',\n",
       " 'up',\n",
       " 'with',\n",
       " 'smart',\n",
       " 'state',\n",
       " 'of',\n",
       " 'the',\n",
       " 'art',\n",
       " 'solutions',\n",
       " 'to',\n",
       " 'tackle',\n",
       " 'real',\n",
       " 'world',\n",
       " 'challenges',\n",
       " 'With',\n",
       " 'cloud',\n",
       " 'computing',\n",
       " 'and',\n",
       " 'big',\n",
       " 'data',\n",
       " 'growing',\n",
       " 'so',\n",
       " 'fast',\n",
       " 'there',\n",
       " 'are',\n",
       " 'endless',\n",
       " 'new',\n",
       " 'possibilities',\n",
       " 'As',\n",
       " 'a',\n",
       " 'software',\n",
       " 'engineer',\n",
       " 'I',\n",
       " 'find',\n",
       " 'it',\n",
       " 'exciting',\n",
       " 'to',\n",
       " 'see',\n",
       " 'how',\n",
       " 'quickly',\n",
       " 'the',\n",
       " 'tech',\n",
       " 'world',\n",
       " 'keeps',\n",
       " 'evolving',\n",
       " 'there',\n",
       " 's',\n",
       " 'always',\n",
       " 'something',\n",
       " 'new',\n",
       " 'to',\n",
       " 'learn',\n",
       " 'and',\n",
       " 'explore']"
      ]
     },
     "execution_count": 42,
     "metadata": {},
     "output_type": "execute_result"
    }
   ],
   "source": [
    "split_text"
   ]
  },
  {
   "cell_type": "markdown",
   "id": "7540c570-4561-495d-9eb5-39c619dc3ec5",
   "metadata": {},
   "source": [
    "## b. Words starting with vowels"
   ]
  },
  {
   "cell_type": "code",
   "execution_count": 44,
   "id": "b2256f4f-7788-4f0e-8ff3-6192bdf55b54",
   "metadata": {},
   "outputs": [],
   "source": [
    "words_start_vowels = [word for word in split_text if word[0].lower() in 'aeiou']\n"
   ]
  },
  {
   "cell_type": "code",
   "execution_count": 45,
   "id": "9beb6738-9104-4a39-873a-011d405a4cf6",
   "metadata": {
    "scrolled": true
   },
   "outputs": [
    {
     "data": {
      "text/plain": [
       "['in',\n",
       " 'AI',\n",
       " 'apps',\n",
       " 'everything',\n",
       " 'is',\n",
       " 'and',\n",
       " 'everywhere',\n",
       " 'are',\n",
       " 'up',\n",
       " 'of',\n",
       " 'art',\n",
       " 'and',\n",
       " 'are',\n",
       " 'endless',\n",
       " 'As',\n",
       " 'a',\n",
       " 'engineer',\n",
       " 'I',\n",
       " 'it',\n",
       " 'exciting',\n",
       " 'evolving',\n",
       " 'always',\n",
       " 'and',\n",
       " 'explore']"
      ]
     },
     "execution_count": 45,
     "metadata": {},
     "output_type": "execute_result"
    }
   ],
   "source": [
    "words_start_vowels"
   ]
  },
  {
   "cell_type": "markdown",
   "id": "349af4af-ed9e-40aa-8e91-5f3c6329674a",
   "metadata": {},
   "source": [
    "#  Q4: Custom Tokenization & Regex-Based Cleaning"
   ]
  },
  {
   "cell_type": "markdown",
   "id": "f175cbfd-0d25-4463-8219-4347c8d7d949",
   "metadata": {},
   "source": [
    "## 1. Take original text from Question 1."
   ]
  },
  {
   "cell_type": "code",
   "execution_count": 48,
   "id": "951fe0d6-0006-482e-a65f-6f671d29cd92",
   "metadata": {},
   "outputs": [],
   "source": [
    "original_text = \"Technology has completely changed the way we live in the past 10 years. From smartphones to AI-powered apps, everything is becoming 5x faster and more convenient. Developers everywhere are coming up with smart, state-of-the-art solutions to tackle real-world challenges. With cloud computing and big data growing so fast, there are endless new possibilities. As a software engineer, I find it exciting to see how quickly the tech world keeps evolving—there's always something new to learn and explore.\""
   ]
  },
  {
   "cell_type": "markdown",
   "id": "80f5ed87-050a-46e2-b943-1dc0796d13ee",
   "metadata": {},
   "source": [
    "## 2. Write a custom tokenizaion funcion that:"
   ]
  },
  {
   "cell_type": "markdown",
   "id": "3827ff88-3db7-40be-a888-f93c40a48ec9",
   "metadata": {},
   "source": [
    "a. Removes punctuaion and special symbols, but keeps contracions (e.g.,\"isn't\" should not be split into \"is\" and \"n't\")."
   ]
  },
  {
   "cell_type": "markdown",
   "id": "d4c8ff16-03a3-45d5-ab5b-26a34dfda432",
   "metadata": {},
   "source": [
    "b. Handles hyphenated words as a single token (e.g., \"state-of-the-art\" remains a single token)."
   ]
  },
  {
   "cell_type": "markdown",
   "id": "60c0b885-04e8-4761-acd8-c6e2b6e33c21",
   "metadata": {},
   "source": [
    "c. Tokenizes numbers separately but keeps decimal numbers intact (e.g., \"3.14\" should remain as is). "
   ]
  },
  {
   "cell_type": "code",
   "execution_count": 53,
   "id": "c0ef5fdd-3779-49a5-8f40-1629aca0fb18",
   "metadata": {},
   "outputs": [
    {
     "name": "stdout",
     "output_type": "stream",
     "text": [
      "['Technology', 'has', 'completely', 'changed', 'the', 'way', 'we', 'live', 'in', 'the', 'past', '10', 'years', 'From', 'smartphones', 'to', 'AI-powered', 'apps', 'everything', 'is', 'becoming', '5x', 'faster', 'and', 'more', 'convenient', 'Developers', 'everywhere', 'are', 'coming', 'up', 'with', 'smart', 'state-of-the-art', 'solutions', 'to', 'tackle', 'real-world', 'challenges', 'With', 'cloud', 'computing', 'and', 'big', 'data', 'growing', 'so', 'fast', 'there', 'are', 'endless', 'new', 'possibilities', 'As', 'a', 'software', 'engineer', 'I', 'find', 'it', 'exciting', 'to', 'see', 'how', 'quickly', 'the', 'tech', 'world', 'keeps', 'evolving', \"there's\", 'always', 'something', 'new', 'to', 'learn', 'and', 'explore']\n"
     ]
    }
   ],
   "source": [
    "import re\n",
    "\n",
    "def custom_tokenize(original_text):\n",
    "    \n",
    "    pattern = r\"\"\"\n",
    "        \\b\\d+\\.\\d+\\b           \n",
    "        |\\b\\d+\\b               \n",
    "        |\\b\\w+(?:-\\w+)+\\b       \n",
    "        |\\b\\w+(?:'\\w+)?\\b      \n",
    "    \"\"\"\n",
    "\n",
    "    tokens = re.findall(pattern, original_text, re.VERBOSE)\n",
    "    return tokens\n",
    "\n",
    "print(custom_tokenize(original_text))"
   ]
  },
  {
   "cell_type": "markdown",
   "id": "488f7773-8420-423b-8b1c-a9cc1d999f7b",
   "metadata": {},
   "source": [
    "## 3. Use Regex Subsituions (re.sub) to:"
   ]
  },
  {
   "cell_type": "markdown",
   "id": "8873364e-cd22-4f86-9883-a34c7277a83e",
   "metadata": {},
   "source": [
    "a. Replace email addresses with 'EMAIL' placeholder"
   ]
  },
  {
   "cell_type": "markdown",
   "id": "9e1f4b4f-1c28-4274-82e3-14de4fc267a4",
   "metadata": {},
   "source": [
    "b. Replace URLs with 'URL' placeholder"
   ]
  },
  {
   "cell_type": "markdown",
   "id": "4637265b-10a7-484d-810b-cffce9e4c59d",
   "metadata": {},
   "source": [
    "c. Replace phone numbers (formats: 123-456-7890 or +91 9876543210) with 'PHONE' placeholder. "
   ]
  },
  {
   "cell_type": "code",
   "execution_count": 58,
   "id": "c0e05824-9d17-4079-9fe2-536046831375",
   "metadata": {},
   "outputs": [
    {
     "name": "stdout",
     "output_type": "stream",
     "text": [
      "My email is example@email.com, you can visit my website at https://www.example.com or call me at 123-456-7890 or +91 9375985449.\n",
      "My email is <EMAIL> you can visit my website at <URL> or call me at <PHONE> or <PHONE>.\n"
     ]
    }
   ],
   "source": [
    "sample = \"My email is example@email.com, you can visit my website at https://www.example.com or call me at 123-456-7890 or +91 9375985449.\"\n",
    "print(sample)\n",
    "sample = re.sub(r'\\S+@\\S+','<EMAIL>',sample)\n",
    "sample = re.sub(r'(\\+?\\d{1,3}[\\s-]?\\d{10}|\\d{3}[-\\s]\\d{3}[-\\s]\\d{4})', '<PHONE>', sample)\n",
    "sample = re.sub(r'https?://(?:www\\.)?[-a-zA-Z0-9@:%._+~#=]{1,256}\\.[a-zA-Z0-9()]{1,6}\\b(?:[-a-zA-Z0-9()@:%_+.~#?&/=]*)', '<URL>', sample)\n",
    "print(sample)"
   ]
  }
 ],
 "metadata": {
  "kernelspec": {
   "display_name": "Python 3 (ipykernel)",
   "language": "python",
   "name": "python3"
  },
  "language_info": {
   "codemirror_mode": {
    "name": "ipython",
    "version": 3
   },
   "file_extension": ".py",
   "mimetype": "text/x-python",
   "name": "python",
   "nbconvert_exporter": "python",
   "pygments_lexer": "ipython3",
   "version": "3.12.7"
  }
 },
 "nbformat": 4,
 "nbformat_minor": 5
}
